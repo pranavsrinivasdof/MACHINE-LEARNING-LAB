{
  "nbformat": 4,
  "nbformat_minor": 0,
  "metadata": {
    "colab": {
      "provenance": [],
      "include_colab_link": true
    },
    "kernelspec": {
      "name": "python3",
      "display_name": "Python 3"
    },
    "language_info": {
      "name": "python"
    }
  },
  "cells": [
    {
      "cell_type": "markdown",
      "metadata": {
        "id": "view-in-github",
        "colab_type": "text"
      },
      "source": [
        "<a href=\"https://colab.research.google.com/github/AnaghBDeshpande/-6thSem-ML-Lab-/blob/main/1BM22CS037_Lab_9_adaboost.ipynb\" target=\"_parent\"><img src=\"https://colab.research.google.com/assets/colab-badge.svg\" alt=\"Open In Colab\"/></a>"
      ]
    },
    {
      "cell_type": "code",
      "execution_count": null,
      "metadata": {
        "colab": {
          "base_uri": "https://localhost:8080/",
          "height": 541
        },
        "id": "ceYlKj6I01X6",
        "outputId": "2265dcf5-e5d3-439a-c66c-b64a35f308e9"
      },
      "outputs": [
        {
          "output_type": "stream",
          "name": "stdout",
          "text": [
            "Accuracy Score: 0.60\n",
            "Confusion Matrix:\n",
            "[[2 0]\n",
            " [2 1]]\n"
          ]
        },
        {
          "output_type": "display_data",
          "data": {
            "text/plain": [
              "<Figure size 640x480 with 2 Axes>"
            ],
            "image/png": "[encoded data removed]"
          },
          "metadata": {}
        }
      ],
      "source": [
        "import pandas as pd\n",
        "import numpy as np\n",
        "from sklearn.model_selection import train_test_split\n",
        "from sklearn.ensemble import AdaBoostClassifier\n",
        "from sklearn.tree import DecisionTreeClassifier\n",
        "from sklearn.metrics import accuracy_score, confusion_matrix\n",
        "import seaborn as sns\n",
        "import matplotlib.pyplot as plt\n",
        "\n",
        "# Load the dataset\n",
        "income_df = pd.read_csv('income.csv')\n",
        "\n",
        "# Preprocess: Convert income to binary classes (above/below median)\n",
        "median_income = income_df['Income($)'].median()\n",
        "income_df['Income_Class'] = np.where(income_df['Income($)'] >= median_income, 1, 0)\n",
        "\n",
        "# Features and target\n",
        "X = income_df[['Age']]  # Using Age as feature\n",
        "y = income_df['Income_Class']\n",
        "\n",
        "# Split data\n",
        "X_train, X_test, y_train, y_test = train_test_split(X, y, test_size=0.2, random_state=42)\n",
        "\n",
        "# Initialize and train AdaBoost model\n",
        "estimator = DecisionTreeClassifier(max_depth=1)\n",
        "ada_model = AdaBoostClassifier(estimator=estimator, n_estimators=50, random_state=42)\n",
        "ada_model.fit(X_train, y_train)\n",
        "\n",
        "# Predict on test data\n",
        "y_pred = ada_model.predict(X_test)\n",
        "\n",
        "# Calculate accuracy\n",
        "accuracy = accuracy_score(y_test, y_pred)\n",
        "print(f\"Accuracy Score: {accuracy:.2f}\")\n",
        "\n",
        "# Confusion matrix\n",
        "cm = confusion_matrix(y_test, y_pred)\n",
        "print(\"Confusion Matrix:\")\n",
        "print(cm)\n",
        "\n",
        "# Visualize confusion matrix\n",
        "sns.heatmap(cm, annot=True, fmt='d', cmap='Blues')\n",
        "plt.xlabel('Predicted')\n",
        "plt.ylabel('Actual')\n",
        "plt.title('Confusion Matrix')\n",
        "plt.show()"
      ]
    },
    {
      "cell_type": "code",
      "source": [
        "import pandas as pd\n",
        "from sklearn.model_selection import train_test_split\n",
        "from sklearn.ensemble import AdaBoostClassifier\n",
        "from sklearn.tree import DecisionTreeClassifier\n",
        "from sklearn.linear_model import LogisticRegression\n",
        "from sklearn.metrics import accuracy_score\n",
        "from sklearn.preprocessing import LabelEncoder\n",
        "\n",
        "# Load the dataset\n",
        "iris_df = pd.read_csv('iris.csv')\n",
        "\n",
        "# Encode the target variable (species)\n",
        "le = LabelEncoder()\n",
        "iris_df['species'] = le.fit_transform(iris_df['species'])\n",
        "\n",
        "# Features and target\n",
        "X = iris_df[['sepal_length', 'sepal_width', 'petal_length', 'petal_width']]\n",
        "y = iris_df['species']\n",
        "\n",
        "# Split data\n",
        "X_train, X_test, y_train, y_test = train_test_split(X, y, test_size=0.2, random_state=42)\n",
        "\n",
        "# Function to train and evaluate AdaBoost\n",
        "def evaluate_adaboost(estimator, n_estimators, learning_rate, estimator_name):\n",
        "    model = AdaBoostClassifier(\n",
        "        estimator=estimator,\n",
        "        n_estimators=n_estimators,\n",
        "        learning_rate=learning_rate,\n",
        "        random_state=42\n",
        "    )\n",
        "    model.fit(X_train, y_train)\n",
        "    y_pred = model.predict(X_test)\n",
        "    accuracy = accuracy_score(y_test, y_pred)\n",
        "    print(f\"{estimator_name} with n_estimators={n_estimators}, learning_rate={learning_rate}: Accuracy = {accuracy:.3f}\")\n",
        "    return accuracy\n",
        "\n",
        "# Experiment 1: Vary n_estimators and learning_rate with Decision Tree\n",
        "print(\"AdaBoost with Decision Tree:\")\n",
        "dt_base = DecisionTreeClassifier(max_depth=1)\n",
        "n_estimators_list = [10, 50, 100]\n",
        "learning_rates = [0.1, 0.5, 1.0]\n",
        "\n",
        "for n in n_estimators_list:\n",
        "    for lr in learning_rates:\n",
        "        evaluate_adaboost(dt_base, n, lr, \"Decision Tree\")\n",
        "\n",
        "# Experiment 2: Use Logistic Regression as base classifier\n",
        "print(\"\\nAdaBoost with Logistic Regression:\")\n",
        "logreg_base = LogisticRegression(max_iter=1000)\n",
        "for n in n_estimators_list:\n",
        "    for lr in learning_rates:\n",
        "        evaluate_adaboost(logreg_base, n, lr, \"Logistic Regression\")"
      ],
      "metadata": {
        "colab": {
          "base_uri": "https://localhost:8080/"
        },
        "id": "LHAiSJN71zx7",
        "outputId": "1f46da94-2a1d-400d-ebe0-9ce2db491e09"
      },
      "execution_count": null,
      "outputs": [
        {
          "output_type": "stream",
          "name": "stdout",
          "text": [
            "AdaBoost with Decision Tree:\n",
            "Decision Tree with n_estimators=10, learning_rate=0.1: Accuracy = 0.967\n",
            "Decision Tree with n_estimators=10, learning_rate=0.5: Accuracy = 1.000\n",
            "Decision Tree with n_estimators=10, learning_rate=1.0: Accuracy = 1.000\n",
            "Decision Tree with n_estimators=50, learning_rate=0.1: Accuracy = 1.000\n",
            "Decision Tree with n_estimators=50, learning_rate=0.5: Accuracy = 0.967\n",
            "Decision Tree with n_estimators=50, learning_rate=1.0: Accuracy = 0.933\n",
            "Decision Tree with n_estimators=100, learning_rate=0.1: Accuracy = 1.000\n",
            "Decision Tree with n_estimators=100, learning_rate=0.5: Accuracy = 1.000\n",
            "Decision Tree with n_estimators=100, learning_rate=1.0: Accuracy = 0.933\n",
            "\n",
            "AdaBoost with Logistic Regression:\n",
            "Logistic Regression with n_estimators=10, learning_rate=0.1: Accuracy = 1.000\n",
            "Logistic Regression with n_estimators=10, learning_rate=0.5: Accuracy = 0.967\n",
            "Logistic Regression with n_estimators=10, learning_rate=1.0: Accuracy = 0.933\n",
            "Logistic Regression with n_estimators=50, learning_rate=0.1: Accuracy = 1.000\n",
            "Logistic Regression with n_estimators=50, learning_rate=0.5: Accuracy = 1.000\n",
            "Logistic Regression with n_estimators=50, learning_rate=1.0: Accuracy = 0.933\n",
            "Logistic Regression with n_estimators=100, learning_rate=0.1: Accuracy = 1.000\n",
            "Logistic Regression with n_estimators=100, learning_rate=0.5: Accuracy = 1.000\n",
            "Logistic Regression with n_estimators=100, learning_rate=1.0: Accuracy = 0.933\n"
          ]
        }
      ]
    },
    {
      "cell_type": "code",
      "source": [],
      "metadata": {
        "id": "jrjgRv8s2OO6"
      },
      "execution_count": null,
      "outputs": []
    }
  ]
}