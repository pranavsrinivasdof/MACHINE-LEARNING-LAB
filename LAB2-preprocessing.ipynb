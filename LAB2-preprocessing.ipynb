{
  "nbformat": 4,
  "nbformat_minor": 0,
  "metadata": {
    "colab": {
      "provenance": [],
      "authorship_tag": "ABX9TyOCee2fxKTZTy6fhNH0u7nR",
      "include_colab_link": true
    },
    "kernelspec": {
      "name": "python3",
      "display_name": "Python 3"
    },
    "language_info": {
      "name": "python"
    }
  },
  "cells": [
    {
      "cell_type": "markdown",
      "metadata": {
        "id": "view-in-github",
        "colab_type": "text"
      },
      "source": [
        "<a href=\"https://colab.research.google.com/github/AnaghBDeshpande/-6thSem-ML-Lab-/blob/main/Lab_1_ML_DataPreprocessing.ipynb\" target=\"_parent\"><img src=\"https://colab.research.google.com/assets/colab-badge.svg\" alt=\"Open In Colab\"/></a>"
      ]
    },
    {
      "cell_type": "markdown",
      "source": [
        "Write python code , consider filename as “housing.csv”\n",
        "\n",
        "i. To load .csv file into the data frame\n",
        "\n",
        "ii. To display information of all columns\n",
        "\n",
        "iii. To display statistical information of all numerical\n",
        "\n",
        "iv. To display the count of unique labels for “Ocean Proximity” column\n",
        "\n",
        "v. To display which attributes (columns) in a dataset have missing\n",
        "values count greater than zero"
      ],
      "metadata": {
        "id": "gdMnNQw-jdWi"
      }
    },
    {
      "cell_type": "code",
      "source": [
        "import pandas as pd\n",
        "\n",
        "# i. To load .csv file into the data frame\n",
        "# df = pd.read_csv(\"housing.csv\")\n",
        "\n",
        "# ii. To display information of all columns\n",
        "print(\"Information of all columns:\")\n",
        "print(df.info())\n",
        "\n",
        "# iii. To display statistical information of all numerical columns\n",
        "print(\"\\nStatistical information of all numerical columns:\")\n",
        "print(df.describe())\n",
        "\n",
        "# iv. To display the count of unique labels for the \"Ocean Proximity\" column\n",
        "print(\"\\nCount of unique labels for 'Ocean Proximity' column:\")\n",
        "print(df['ocean_proximity'].value_counts())\n",
        "\n",
        "# v. To display which attributes (columns) in a dataset have missing values count greater than zero\n",
        "print(\"\\nColumns with missing values count greater than zero:\")\n",
        "missing_values = df.isnull().sum()\n",
        "missing_columns = missing_values[missing_values > 0]\n",
        "print(missing_columns)\n"
      ],
      "metadata": {
        "colab": {
          "base_uri": "https://localhost:8080/"
        },
        "id": "5QVGSSitjp0f",
        "outputId": "fe7940ff-e794-437b-e97f-2c6d295e4973"
      },
      "execution_count": 4,
      "outputs": [
        {
          "output_type": "stream",
          "name": "stdout",
          "text": [
            "Information of all columns:\n",
            "<class 'pandas.core.frame.DataFrame'>\n",
            "RangeIndex: 20640 entries, 0 to 20639\n",
            "Data columns (total 10 columns):\n",
            " #   Column              Non-Null Count  Dtype  \n",
            "---  ------              --------------  -----  \n",
            " 0   longitude           20640 non-null  float64\n",
            " 1   latitude            20640 non-null  float64\n",
            " 2   housing_median_age  20640 non-null  float64\n",
            " 3   total_rooms         20640 non-null  float64\n",
            " 4   total_bedrooms      20433 non-null  float64\n",
            " 5   population          20640 non-null  float64\n",
            " 6   households          20640 non-null  float64\n",
            " 7   median_income       20640 non-null  float64\n",
            " 8   median_house_value  20640 non-null  float64\n",
            " 9   ocean_proximity     20640 non-null  object \n",
            "dtypes: float64(9), object(1)\n",
            "memory usage: 1.6+ MB\n",
            "None\n",
            "\n",
            "Statistical information of all numerical columns:\n",
            "          longitude      latitude  housing_median_age   total_rooms  \\\n",
            "count  20640.000000  20640.000000        20640.000000  20640.000000   \n",
            "mean    -119.569704     35.631861           28.639486   2635.763081   \n",
            "std        2.003532      2.135952           12.585558   2181.615252   \n",
            "min     -124.350000     32.540000            1.000000      2.000000   \n",
            "25%     -121.800000     33.930000           18.000000   1447.750000   \n",
            "50%     -118.490000     34.260000           29.000000   2127.000000   \n",
            "75%     -118.010000     37.710000           37.000000   3148.000000   \n",
            "max     -114.310000     41.950000           52.000000  39320.000000   \n",
            "\n",
            "       total_bedrooms    population    households  median_income  \\\n",
            "count    20433.000000  20640.000000  20640.000000   20640.000000   \n",
            "mean       537.870553   1425.476744    499.539680       3.870671   \n",
            "std        421.385070   1132.462122    382.329753       1.899822   \n",
            "min          1.000000      3.000000      1.000000       0.499900   \n",
            "25%        296.000000    787.000000    280.000000       2.563400   \n",
            "50%        435.000000   1166.000000    409.000000       3.534800   \n",
            "75%        647.000000   1725.000000    605.000000       4.743250   \n",
            "max       6445.000000  35682.000000   6082.000000      15.000100   \n",
            "\n",
            "       median_house_value  \n",
            "count        20640.000000  \n",
            "mean        206855.816909  \n",
            "std         115395.615874  \n",
            "min          14999.000000  \n",
            "25%         119600.000000  \n",
            "50%         179700.000000  \n",
            "75%         264725.000000  \n",
            "max         500001.000000  \n",
            "\n",
            "Count of unique labels for 'Ocean Proximity' column:\n",
            "ocean_proximity\n",
            "<1H OCEAN     9136\n",
            "INLAND        6551\n",
            "NEAR OCEAN    2658\n",
            "NEAR BAY      2290\n",
            "ISLAND           5\n",
            "Name: count, dtype: int64\n",
            "\n",
            "Columns with missing values count greater than zero:\n",
            "total_bedrooms    207\n",
            "dtype: int64\n"
          ]
        }
      ]
    },
    {
      "cell_type": "markdown",
      "source": [
        "-----------------------------------------------------------------------------------"
      ],
      "metadata": {
        "id": "Ktm71vbMlFP3"
      }
    },
    {
      "cell_type": "markdown",
      "source": [
        "Write Python code to implement the following data preprocessing\n",
        "techniques for Diabetes and Adult income data sets\n",
        "\n",
        "Data Preprocessing techniques:\n",
        "\n",
        "1. Data Cleaning: Handling Missing Values, Handling categorical data, Handling Outliers\n",
        "\n",
        "2. Data Transformations: Min-max Scaler/Normalization , Standard Scaler\n",
        "\n",
        "Download the following dataset files and upload in your Google Colab folder\n",
        "\n",
        "I. Diabetes datasets\n",
        "\n",
        "https://data.mendeley.com/datasets/wj9rwkp9c2/1\n",
        "\n",
        "II. Adult income dataset\n",
        "\n",
        "https://www.kaggle.com/datasets/wenruliu/adult-income-dataset"
      ],
      "metadata": {
        "id": "ZSnM79ItlDAf"
      }
    },
    {
      "cell_type": "markdown",
      "source": [
        "DIABETES DATASET"
      ],
      "metadata": {
        "id": "8xPxKzW3k203"
      }
    },
    {
      "cell_type": "code",
      "source": [
        "import pandas as pd\n",
        "import numpy as np\n",
        "from sklearn.preprocessing import MinMaxScaler, StandardScaler\n",
        "from sklearn.impute import SimpleImputer\n",
        "from sklearn.preprocessing import LabelEncoder\n",
        "import matplotlib.pyplot as plt\n",
        "\n",
        "# Load Diabetes Dataset\n",
        "diabetes_df = pd.read_csv(\"/content/Dataset of Diabetes .csv\")\n",
        "print(\"Diabetes Dataset Loaded\")\n",
        "print(diabetes_df.head())\n",
        "\n",
        "# -------------------- Data Preprocessing for Diabetes Dataset --------------------\n",
        "# 1. Handling Missing Values in Diabetes Dataset\n",
        "# Impute missing values for numerical columns with mean and categorical with most frequent value\n",
        "numerical_cols = diabetes_df.select_dtypes(include=[np.number]).columns\n",
        "categorical_cols = diabetes_df.select_dtypes(include=['object']).columns\n",
        "\n",
        "# Impute missing values for numerical columns (mean strategy)\n",
        "num_imputer = SimpleImputer(strategy='mean')\n",
        "diabetes_df[numerical_cols] = num_imputer.fit_transform(diabetes_df[numerical_cols])\n",
        "\n",
        "# Impute missing values for categorical columns (most frequent strategy)\n",
        "cat_imputer = SimpleImputer(strategy='most_frequent')\n",
        "diabetes_df[categorical_cols] = cat_imputer.fit_transform(diabetes_df[categorical_cols])\n",
        "\n",
        "# 2. Handling Categorical Data (Label Encoding for categorical columns like 'Gender')\n",
        "label_encoder = LabelEncoder()\n",
        "for col in categorical_cols:\n",
        "    diabetes_df[col] = label_encoder.fit_transform(diabetes_df[col])\n",
        "\n",
        "# 3. Handling Outliers in Diabetes Dataset\n",
        "# Removing outliers based on Z-score (values beyond 3 standard deviations)\n",
        "from scipy import stats\n",
        "z_scores = np.abs(stats.zscore(diabetes_df[numerical_cols]))\n",
        "outliers = (z_scores > 3).all(axis=1)\n",
        "diabetes_df_cleaned = diabetes_df[~outliers]\n",
        "\n",
        "# 4. Data Transformation (Min-Max Scaling and Standardization)\n",
        "# Min-Max Scaling (Normalization)\n",
        "min_max_scaler = MinMaxScaler()\n",
        "diabetes_df_scaled = pd.DataFrame(min_max_scaler.fit_transform(diabetes_df_cleaned), columns=diabetes_df_cleaned.columns)\n",
        "\n",
        "# Standard Scaling (Z-score Normalization)\n",
        "standard_scaler = StandardScaler()\n",
        "diabetes_df_standardized = pd.DataFrame(standard_scaler.fit_transform(diabetes_df_cleaned), columns=diabetes_df_cleaned.columns)\n",
        "\n",
        "# Display results\n",
        "print(\"\\nProcessed Diabetes Data (after preprocessing):\")\n",
        "print(diabetes_df_standardized.head())\n"
      ],
      "metadata": {
        "colab": {
          "base_uri": "https://localhost:8080/"
        },
        "id": "AgP1LOnGkElI",
        "outputId": "49563eba-8b32-4199-a6a9-993967d53cf0"
      },
      "execution_count": 5,
      "outputs": [
        {
          "output_type": "stream",
          "name": "stdout",
          "text": [
            "Diabetes Dataset Loaded\n",
            "    ID  No_Pation Gender  AGE  Urea  Cr  HbA1c  Chol   TG  HDL  LDL  VLDL  \\\n",
            "0  502      17975      F   50   4.7  46    4.9   4.2  0.9  2.4  1.4   0.5   \n",
            "1  735      34221      M   26   4.5  62    4.9   3.7  1.4  1.1  2.1   0.6   \n",
            "2  420      47975      F   50   4.7  46    4.9   4.2  0.9  2.4  1.4   0.5   \n",
            "3  680      87656      F   50   4.7  46    4.9   4.2  0.9  2.4  1.4   0.5   \n",
            "4  504      34223      M   33   7.1  46    4.9   4.9  1.0  0.8  2.0   0.4   \n",
            "\n",
            "    BMI CLASS  \n",
            "0  24.0     N  \n",
            "1  23.0     N  \n",
            "2  24.0     N  \n",
            "3  24.0     N  \n",
            "4  21.0     N  \n",
            "\n",
            "Processed Diabetes Data (after preprocessing):\n",
            "         ID  No_Pation    Gender       AGE      Urea        Cr     HbA1c  \\\n",
            "0  0.672140  -0.074747 -1.139688 -0.401144 -0.144781 -0.382672 -1.334983   \n",
            "1  1.641852  -0.069940  0.870343 -3.130017 -0.212954 -0.115804 -1.334983   \n",
            "2  0.330868  -0.065869 -1.139688 -0.401144 -0.144781 -0.382672 -1.334983   \n",
            "3  1.412950  -0.054126 -1.139688 -0.401144 -0.144781 -0.382672 -1.334983   \n",
            "4  0.680463  -0.069939  0.870343 -2.334096  0.673299 -0.382672 -1.334983   \n",
            "\n",
            "       Chol        TG       HDL       LDL      VLDL       BMI     CLASS  \n",
            "0 -0.509436 -1.035084  1.810756 -1.085457 -0.369958 -1.124622 -2.864124  \n",
            "1 -0.893730 -0.678063 -0.158692 -0.457398 -0.342649 -1.326239 -2.864124  \n",
            "2 -0.509436 -1.035084  1.810756 -1.085457 -0.369958 -1.124622 -2.864124  \n",
            "3 -0.509436 -1.035084  1.810756 -1.085457 -0.369958 -1.124622 -2.864124  \n",
            "4  0.028576 -0.963680 -0.613180 -0.547121 -0.397267 -1.729472 -2.864124  \n"
          ]
        }
      ]
    },
    {
      "cell_type": "markdown",
      "source": [
        "ADULT INCOME DATASET"
      ],
      "metadata": {
        "id": "gC0SlHHjk5xf"
      }
    },
    {
      "cell_type": "code",
      "source": [
        "import pandas as pd\n",
        "import numpy as np\n",
        "from sklearn.preprocessing import MinMaxScaler, StandardScaler\n",
        "from sklearn.impute import SimpleImputer\n",
        "from sklearn.preprocessing import LabelEncoder\n",
        "import matplotlib.pyplot as plt\n",
        "from scipy import stats\n",
        "\n",
        "# Load Adult Income Dataset\n",
        "adult_df = pd.read_csv(\"adult.csv\")\n",
        "print(\"Adult Income Dataset Loaded\")\n",
        "print(adult_df.head())\n",
        "\n",
        "# -------------------- Data Preprocessing for Adult Income Dataset --------------------\n",
        "# 1. Handling Missing Values in Adult Income Dataset\n",
        "# Impute missing values for numerical columns with mean and categorical with most frequent value\n",
        "numerical_cols_adult = adult_df.select_dtypes(include=[np.number]).columns\n",
        "categorical_cols_adult = adult_df.select_dtypes(include=['object']).columns\n",
        "\n",
        "# Impute missing values for numerical columns (mean strategy)\n",
        "num_imputer_adult = SimpleImputer(strategy='mean')\n",
        "adult_df[numerical_cols_adult] = num_imputer_adult.fit_transform(adult_df[numerical_cols_adult])\n",
        "\n",
        "# Impute missing values for categorical columns (most frequent strategy)\n",
        "cat_imputer_adult = SimpleImputer(strategy='most_frequent')\n",
        "adult_df[categorical_cols_adult] = cat_imputer_adult.fit_transform(adult_df[categorical_cols_adult])\n",
        "\n",
        "# 2. Handling Categorical Data (Label Encoding for categorical columns)\n",
        "label_encoder = LabelEncoder()\n",
        "for col in categorical_cols_adult:\n",
        "    adult_df[col] = label_encoder.fit_transform(adult_df[col])\n",
        "\n",
        "# 3. Handling Outliers in Adult Income Dataset\n",
        "# Removing outliers based on Z-score (values beyond 3 standard deviations)\n",
        "z_scores_adult = np.abs(stats.zscore(adult_df[numerical_cols_adult]))\n",
        "outliers_adult = (z_scores_adult > 3).all(axis=1)\n",
        "adult_df_cleaned = adult_df[~outliers_adult]\n",
        "\n",
        "# -------------------- Data Transformation (Normalization and Scaling) --------------------\n",
        "# 1. Min-Max Scaling (Normalization)\n",
        "min_max_scaler_adult = MinMaxScaler()\n",
        "adult_df_scaled = pd.DataFrame(min_max_scaler_adult.fit_transform(adult_df_cleaned), columns=adult_df_cleaned.columns)\n",
        "\n",
        "# 2. Standard Scaling (Z-Score Normalization)\n",
        "standard_scaler_adult = StandardScaler()\n",
        "adult_df_standardized = pd.DataFrame(standard_scaler_adult.fit_transform(adult_df_cleaned), columns=adult_df_cleaned.columns)\n",
        "\n",
        "# Display results\n",
        "print(\"\\nProcessed Adult Income Data (after preprocessing):\")\n",
        "print(adult_df_standardized.head())\n"
      ],
      "metadata": {
        "colab": {
          "base_uri": "https://localhost:8080/"
        },
        "id": "LVxbTohZkyg_",
        "outputId": "846b1d5e-635b-4c3d-eadb-bce499bf45e3"
      },
      "execution_count": 6,
      "outputs": [
        {
          "output_type": "stream",
          "name": "stdout",
          "text": [
            "Adult Income Dataset Loaded\n",
            "   age  workclass  fnlwgt     education  educational-num      marital-status  \\\n",
            "0   25    Private  226802          11th                7       Never-married   \n",
            "1   38    Private   89814       HS-grad                9  Married-civ-spouse   \n",
            "2   28  Local-gov  336951    Assoc-acdm               12  Married-civ-spouse   \n",
            "3   44    Private  160323  Some-college               10  Married-civ-spouse   \n",
            "4   18          ?  103497  Some-college               10       Never-married   \n",
            "\n",
            "          occupation relationship   race  gender  capital-gain  capital-loss  \\\n",
            "0  Machine-op-inspct    Own-child  Black    Male             0             0   \n",
            "1    Farming-fishing      Husband  White    Male             0             0   \n",
            "2    Protective-serv      Husband  White    Male             0             0   \n",
            "3  Machine-op-inspct      Husband  Black    Male          7688             0   \n",
            "4                  ?    Own-child  White  Female             0             0   \n",
            "\n",
            "   hours-per-week native-country income  \n",
            "0              40  United-States  <=50K  \n",
            "1              50  United-States  <=50K  \n",
            "2              40  United-States   >50K  \n",
            "3              40  United-States   >50K  \n",
            "4              30  United-States  <=50K  \n",
            "\n",
            "Processed Adult Income Data (after preprocessing):\n",
            "        age  workclass    fnlwgt  education  educational-num  marital-status  \\\n",
            "0 -0.995129   0.088484  0.351675  -2.397350        -1.197259        0.916138   \n",
            "1 -0.046942   0.088484 -0.945524   0.183660        -0.419335       -0.410397   \n",
            "2 -0.776316  -1.277432  1.394723  -0.848744         0.747550       -0.410397   \n",
            "3  0.390683   0.088484 -0.277844   1.216063        -0.030373       -0.410397   \n",
            "4 -1.505691  -2.643348 -0.815954   1.216063        -0.030373        0.916138   \n",
            "\n",
            "   occupation  relationship      race   gender  capital-gain  capital-loss  \\\n",
            "0    0.099824      0.971649 -1.971746  0.70422     -0.144804     -0.217127   \n",
            "1   -0.372938     -0.900852  0.392384  0.70422     -0.144804     -0.217127   \n",
            "2    1.045346     -0.900852  0.392384  0.70422     -0.144804     -0.217127   \n",
            "3    0.099824     -0.900852 -1.971746  0.70422      0.886874     -0.217127   \n",
            "4   -1.554840      0.971649  0.392384 -1.42001     -0.144804     -0.217127   \n",
            "\n",
            "   hours-per-week  native-country    income  \n",
            "0       -0.034087        0.289462 -0.560845  \n",
            "1        0.772930        0.289462 -0.560845  \n",
            "2       -0.034087        0.289462  1.783024  \n",
            "3       -0.034087        0.289462  1.783024  \n",
            "4       -0.841104        0.289462 -0.560845  \n"
          ]
        }
      ]
    },
    {
      "cell_type": "code",
      "source": [],
      "metadata": {
        "id": "gBVj4r6tk8tZ"
      },
      "execution_count": null,
      "outputs": []
    }
  ]
}
